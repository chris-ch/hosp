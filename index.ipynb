{
 "cells": [
  {
   "cell_type": "code",
   "execution_count": 2,
   "metadata": {},
   "outputs": [],
   "source": [
    "import zipfile\n",
    "import pandas\n",
    "from io import BytesIO\n",
    "import requests"
   ]
  },
  {
   "cell_type": "code",
   "execution_count": 4,
   "metadata": {},
   "outputs": [],
   "source": [
    "result = requests.get(\"https://www.covid19.admin.ch/api/data/20211117-k2v540nz/downloads/sources-csv.zip\")"
   ]
  },
  {
   "cell_type": "code",
   "execution_count": 5,
   "metadata": {},
   "outputs": [
    {
     "ename": "ValueError",
     "evalue": "Multiple files found in compressed zip file ['data/COVID19Cases_geoRegion.csv', 'data/COVID19Cases_vaccpersons.csv', 'data/COVID19Hosp_geoRegion.csv', 'data/COVID19Hosp_vaccpersons.csv', 'data/COVID19Death_geoRegion.csv', 'data/COVID19Death_vaccpersons.csv', 'data/COVID19Test_geoRegion_all.csv', 'data/COVID19Test_geoRegion_PCR_Antigen.csv', 'data/COVID19Cases_geoRegion_w.csv', 'data/COVID19Hosp_geoRegion_w.csv', 'data/COVID19Death_geoRegion_w.csv', 'data/COVID19Test_geoRegion_w.csv', 'data/COVID19Test_geoRegion_PCR_Antigen_w.csv', 'data/COVID19Cases_geoRegion_AKL10_w.csv', 'data/COVID19Cases_vaccpersons_AKL10_w.csv', 'data/COVID19Hosp_geoRegion_AKL10_w.csv', 'data/COVID19Hosp_vaccpersons_AKL10_w.csv', 'data/COVID19Death_geoRegion_AKL10_w.csv', 'data/COVID19Death_vaccpersons_AKL10_w.csv', 'data/COVID19Test_geoRegion_AKL10_w.csv', 'data/COVID19Cases_geoRegion_sex_w.csv', 'data/COVID19Cases_vaccpersons_sex_w.csv', 'data/COVID19Hosp_geoRegion_sex_w.csv', 'data/COVID19Hosp_vaccpersons_sex_w.csv', 'data/COVID19Death_geoRegion_sex_w.csv', 'data/COVID19Death_vaccpersons_sex_w.csv', 'data/COVID19Test_geoRegion_sex_w.csv', 'data/COVID19EvalTextDaily.csv', 'data/COVID19QuarantineIsolation_geoRegion_d.csv', 'data/COVID19HospCapacity_geoRegion.csv', 'data/COVID19IntQua.csv', 'data/COVID19IntCases.csv', 'data/COVID19Re_geoRegion.csv', 'data/COVID19VaccDosesDelivered.csv', 'data/COVID19VaccDosesContingent.csv', 'data/COVID19VaccDosesAdministered.csv', 'data/COVID19VaccPersons_v2.csv', 'data/COVID19VaccDosesAdministered_AKL10_w.csv', 'data/COVID19VaccPersons_AKL10_w_v2.csv', 'data/COVID19VaccPersons_AKL10_vaccine_w.csv', 'data/COVID19VaccDosesAdministered_sex_w.csv', 'data/COVID19VaccPersons_sex_w_v2.csv', 'data/COVID19FullyVaccPersons_indication_w_v2.csv', 'data/COVID19VaccDosesAdministered_indication_w.csv', 'data/COVID19VaccDosesAdministered_location_w.csv', 'data/COVID19Variants_wgs.csv', 'data/COVID19WeeklyReportText.csv', 'data/COVID19VaccPersons_vaccine.csv', 'data/COVID19AdministeredDoses_vaccine.csv', 'data/COVID19VaccDosesDelivered_vaccine.csv', 'data/COVID19VaccSymptoms.csv', 'data/COVID19Certificates.csv', 'data/COVID19Cases_extraGeoRegions_d.csv', 'data/COVID19Cases_extraGeoRegions_14d.csv', 'README.md', 'sources.schema.json']",
     "output_type": "error",
     "traceback": [
      "\u001b[0;31m---------------------------------------------------------------------------\u001b[0m",
      "\u001b[0;31mValueError\u001b[0m                                Traceback (most recent call last)",
      "\u001b[0;32m<ipython-input-5-e3ee0efe4c33>\u001b[0m in \u001b[0;36m<module>\u001b[0;34m\u001b[0m\n\u001b[0;32m----> 1\u001b[0;31m \u001b[0mdf\u001b[0m \u001b[0;34m=\u001b[0m \u001b[0mpandas\u001b[0m\u001b[0;34m.\u001b[0m\u001b[0mread_csv\u001b[0m\u001b[0;34m(\u001b[0m\u001b[0mBytesIO\u001b[0m\u001b[0;34m(\u001b[0m\u001b[0mresult\u001b[0m\u001b[0;34m.\u001b[0m\u001b[0mcontent\u001b[0m\u001b[0;34m)\u001b[0m\u001b[0;34m,\u001b[0m\u001b[0mcompression\u001b[0m\u001b[0;34m=\u001b[0m\u001b[0;34m'zip'\u001b[0m\u001b[0;34m,\u001b[0m \u001b[0mheader\u001b[0m\u001b[0;34m=\u001b[0m\u001b[0;36m0\u001b[0m\u001b[0;34m,\u001b[0m \u001b[0msep\u001b[0m\u001b[0;34m=\u001b[0m\u001b[0;34m','\u001b[0m\u001b[0;34m,\u001b[0m \u001b[0mquotechar\u001b[0m\u001b[0;34m=\u001b[0m\u001b[0;34m'\"'\u001b[0m\u001b[0;34m)\u001b[0m\u001b[0;34m\u001b[0m\u001b[0;34m\u001b[0m\u001b[0m\n\u001b[0m",
      "\u001b[0;32m~/anaconda3/envs/python3/lib/python3.6/site-packages/pandas/io/parsers.py\u001b[0m in \u001b[0;36mread_csv\u001b[0;34m(filepath_or_buffer, sep, delimiter, header, names, index_col, usecols, squeeze, prefix, mangle_dupe_cols, dtype, engine, converters, true_values, false_values, skipinitialspace, skiprows, skipfooter, nrows, na_values, keep_default_na, na_filter, verbose, skip_blank_lines, parse_dates, infer_datetime_format, keep_date_col, date_parser, dayfirst, cache_dates, iterator, chunksize, compression, thousands, decimal, lineterminator, quotechar, quoting, doublequote, escapechar, comment, encoding, dialect, error_bad_lines, warn_bad_lines, delim_whitespace, low_memory, memory_map, float_precision)\u001b[0m\n\u001b[1;32m    686\u001b[0m     )\n\u001b[1;32m    687\u001b[0m \u001b[0;34m\u001b[0m\u001b[0m\n\u001b[0;32m--> 688\u001b[0;31m     \u001b[0;32mreturn\u001b[0m \u001b[0m_read\u001b[0m\u001b[0;34m(\u001b[0m\u001b[0mfilepath_or_buffer\u001b[0m\u001b[0;34m,\u001b[0m \u001b[0mkwds\u001b[0m\u001b[0;34m)\u001b[0m\u001b[0;34m\u001b[0m\u001b[0;34m\u001b[0m\u001b[0m\n\u001b[0m\u001b[1;32m    689\u001b[0m \u001b[0;34m\u001b[0m\u001b[0m\n\u001b[1;32m    690\u001b[0m \u001b[0;34m\u001b[0m\u001b[0m\n",
      "\u001b[0;32m~/anaconda3/envs/python3/lib/python3.6/site-packages/pandas/io/parsers.py\u001b[0m in \u001b[0;36m_read\u001b[0;34m(filepath_or_buffer, kwds)\u001b[0m\n\u001b[1;32m    452\u001b[0m \u001b[0;34m\u001b[0m\u001b[0m\n\u001b[1;32m    453\u001b[0m     \u001b[0;31m# Create the parser.\u001b[0m\u001b[0;34m\u001b[0m\u001b[0;34m\u001b[0m\u001b[0;34m\u001b[0m\u001b[0m\n\u001b[0;32m--> 454\u001b[0;31m     \u001b[0mparser\u001b[0m \u001b[0;34m=\u001b[0m \u001b[0mTextFileReader\u001b[0m\u001b[0;34m(\u001b[0m\u001b[0mfp_or_buf\u001b[0m\u001b[0;34m,\u001b[0m \u001b[0;34m**\u001b[0m\u001b[0mkwds\u001b[0m\u001b[0;34m)\u001b[0m\u001b[0;34m\u001b[0m\u001b[0;34m\u001b[0m\u001b[0m\n\u001b[0m\u001b[1;32m    455\u001b[0m \u001b[0;34m\u001b[0m\u001b[0m\n\u001b[1;32m    456\u001b[0m     \u001b[0;32mif\u001b[0m \u001b[0mchunksize\u001b[0m \u001b[0;32mor\u001b[0m \u001b[0miterator\u001b[0m\u001b[0;34m:\u001b[0m\u001b[0;34m\u001b[0m\u001b[0;34m\u001b[0m\u001b[0m\n",
      "\u001b[0;32m~/anaconda3/envs/python3/lib/python3.6/site-packages/pandas/io/parsers.py\u001b[0m in \u001b[0;36m__init__\u001b[0;34m(self, f, engine, **kwds)\u001b[0m\n\u001b[1;32m    946\u001b[0m             \u001b[0mself\u001b[0m\u001b[0;34m.\u001b[0m\u001b[0moptions\u001b[0m\u001b[0;34m[\u001b[0m\u001b[0;34m\"has_index_names\"\u001b[0m\u001b[0;34m]\u001b[0m \u001b[0;34m=\u001b[0m \u001b[0mkwds\u001b[0m\u001b[0;34m[\u001b[0m\u001b[0;34m\"has_index_names\"\u001b[0m\u001b[0;34m]\u001b[0m\u001b[0;34m\u001b[0m\u001b[0;34m\u001b[0m\u001b[0m\n\u001b[1;32m    947\u001b[0m \u001b[0;34m\u001b[0m\u001b[0m\n\u001b[0;32m--> 948\u001b[0;31m         \u001b[0mself\u001b[0m\u001b[0;34m.\u001b[0m\u001b[0m_make_engine\u001b[0m\u001b[0;34m(\u001b[0m\u001b[0mself\u001b[0m\u001b[0;34m.\u001b[0m\u001b[0mengine\u001b[0m\u001b[0;34m)\u001b[0m\u001b[0;34m\u001b[0m\u001b[0;34m\u001b[0m\u001b[0m\n\u001b[0m\u001b[1;32m    949\u001b[0m \u001b[0;34m\u001b[0m\u001b[0m\n\u001b[1;32m    950\u001b[0m     \u001b[0;32mdef\u001b[0m \u001b[0mclose\u001b[0m\u001b[0;34m(\u001b[0m\u001b[0mself\u001b[0m\u001b[0;34m)\u001b[0m\u001b[0;34m:\u001b[0m\u001b[0;34m\u001b[0m\u001b[0;34m\u001b[0m\u001b[0m\n",
      "\u001b[0;32m~/anaconda3/envs/python3/lib/python3.6/site-packages/pandas/io/parsers.py\u001b[0m in \u001b[0;36m_make_engine\u001b[0;34m(self, engine)\u001b[0m\n\u001b[1;32m   1178\u001b[0m     \u001b[0;32mdef\u001b[0m \u001b[0m_make_engine\u001b[0m\u001b[0;34m(\u001b[0m\u001b[0mself\u001b[0m\u001b[0;34m,\u001b[0m \u001b[0mengine\u001b[0m\u001b[0;34m=\u001b[0m\u001b[0;34m\"c\"\u001b[0m\u001b[0;34m)\u001b[0m\u001b[0;34m:\u001b[0m\u001b[0;34m\u001b[0m\u001b[0;34m\u001b[0m\u001b[0m\n\u001b[1;32m   1179\u001b[0m         \u001b[0;32mif\u001b[0m \u001b[0mengine\u001b[0m \u001b[0;34m==\u001b[0m \u001b[0;34m\"c\"\u001b[0m\u001b[0;34m:\u001b[0m\u001b[0;34m\u001b[0m\u001b[0;34m\u001b[0m\u001b[0m\n\u001b[0;32m-> 1180\u001b[0;31m             \u001b[0mself\u001b[0m\u001b[0;34m.\u001b[0m\u001b[0m_engine\u001b[0m \u001b[0;34m=\u001b[0m \u001b[0mCParserWrapper\u001b[0m\u001b[0;34m(\u001b[0m\u001b[0mself\u001b[0m\u001b[0;34m.\u001b[0m\u001b[0mf\u001b[0m\u001b[0;34m,\u001b[0m \u001b[0;34m**\u001b[0m\u001b[0mself\u001b[0m\u001b[0;34m.\u001b[0m\u001b[0moptions\u001b[0m\u001b[0;34m)\u001b[0m\u001b[0;34m\u001b[0m\u001b[0;34m\u001b[0m\u001b[0m\n\u001b[0m\u001b[1;32m   1181\u001b[0m         \u001b[0;32melse\u001b[0m\u001b[0;34m:\u001b[0m\u001b[0;34m\u001b[0m\u001b[0;34m\u001b[0m\u001b[0m\n\u001b[1;32m   1182\u001b[0m             \u001b[0;32mif\u001b[0m \u001b[0mengine\u001b[0m \u001b[0;34m==\u001b[0m \u001b[0;34m\"python\"\u001b[0m\u001b[0;34m:\u001b[0m\u001b[0;34m\u001b[0m\u001b[0;34m\u001b[0m\u001b[0m\n",
      "\u001b[0;32m~/anaconda3/envs/python3/lib/python3.6/site-packages/pandas/io/parsers.py\u001b[0m in \u001b[0;36m__init__\u001b[0;34m(self, src, **kwds)\u001b[0m\n\u001b[1;32m   2008\u001b[0m         \u001b[0mkwds\u001b[0m\u001b[0;34m[\u001b[0m\u001b[0;34m\"usecols\"\u001b[0m\u001b[0;34m]\u001b[0m \u001b[0;34m=\u001b[0m \u001b[0mself\u001b[0m\u001b[0;34m.\u001b[0m\u001b[0musecols\u001b[0m\u001b[0;34m\u001b[0m\u001b[0;34m\u001b[0m\u001b[0m\n\u001b[1;32m   2009\u001b[0m \u001b[0;34m\u001b[0m\u001b[0m\n\u001b[0;32m-> 2010\u001b[0;31m         \u001b[0mself\u001b[0m\u001b[0;34m.\u001b[0m\u001b[0m_reader\u001b[0m \u001b[0;34m=\u001b[0m \u001b[0mparsers\u001b[0m\u001b[0;34m.\u001b[0m\u001b[0mTextReader\u001b[0m\u001b[0;34m(\u001b[0m\u001b[0msrc\u001b[0m\u001b[0;34m,\u001b[0m \u001b[0;34m**\u001b[0m\u001b[0mkwds\u001b[0m\u001b[0;34m)\u001b[0m\u001b[0;34m\u001b[0m\u001b[0;34m\u001b[0m\u001b[0m\n\u001b[0m\u001b[1;32m   2011\u001b[0m         \u001b[0mself\u001b[0m\u001b[0;34m.\u001b[0m\u001b[0munnamed_cols\u001b[0m \u001b[0;34m=\u001b[0m \u001b[0mself\u001b[0m\u001b[0;34m.\u001b[0m\u001b[0m_reader\u001b[0m\u001b[0;34m.\u001b[0m\u001b[0munnamed_cols\u001b[0m\u001b[0;34m\u001b[0m\u001b[0;34m\u001b[0m\u001b[0m\n\u001b[1;32m   2012\u001b[0m \u001b[0;34m\u001b[0m\u001b[0m\n",
      "\u001b[0;32mpandas/_libs/parsers.pyx\u001b[0m in \u001b[0;36mpandas._libs.parsers.TextReader.__cinit__\u001b[0;34m()\u001b[0m\n",
      "\u001b[0;32mpandas/_libs/parsers.pyx\u001b[0m in \u001b[0;36mpandas._libs.parsers.TextReader._setup_parser_source\u001b[0;34m()\u001b[0m\n",
      "\u001b[0;31mValueError\u001b[0m: Multiple files found in compressed zip file ['data/COVID19Cases_geoRegion.csv', 'data/COVID19Cases_vaccpersons.csv', 'data/COVID19Hosp_geoRegion.csv', 'data/COVID19Hosp_vaccpersons.csv', 'data/COVID19Death_geoRegion.csv', 'data/COVID19Death_vaccpersons.csv', 'data/COVID19Test_geoRegion_all.csv', 'data/COVID19Test_geoRegion_PCR_Antigen.csv', 'data/COVID19Cases_geoRegion_w.csv', 'data/COVID19Hosp_geoRegion_w.csv', 'data/COVID19Death_geoRegion_w.csv', 'data/COVID19Test_geoRegion_w.csv', 'data/COVID19Test_geoRegion_PCR_Antigen_w.csv', 'data/COVID19Cases_geoRegion_AKL10_w.csv', 'data/COVID19Cases_vaccpersons_AKL10_w.csv', 'data/COVID19Hosp_geoRegion_AKL10_w.csv', 'data/COVID19Hosp_vaccpersons_AKL10_w.csv', 'data/COVID19Death_geoRegion_AKL10_w.csv', 'data/COVID19Death_vaccpersons_AKL10_w.csv', 'data/COVID19Test_geoRegion_AKL10_w.csv', 'data/COVID19Cases_geoRegion_sex_w.csv', 'data/COVID19Cases_vaccpersons_sex_w.csv', 'data/COVID19Hosp_geoRegion_sex_w.csv', 'data/COVID19Hosp_vaccpersons_sex_w.csv', 'data/COVID19Death_geoRegion_sex_w.csv', 'data/COVID19Death_vaccpersons_sex_w.csv', 'data/COVID19Test_geoRegion_sex_w.csv', 'data/COVID19EvalTextDaily.csv', 'data/COVID19QuarantineIsolation_geoRegion_d.csv', 'data/COVID19HospCapacity_geoRegion.csv', 'data/COVID19IntQua.csv', 'data/COVID19IntCases.csv', 'data/COVID19Re_geoRegion.csv', 'data/COVID19VaccDosesDelivered.csv', 'data/COVID19VaccDosesContingent.csv', 'data/COVID19VaccDosesAdministered.csv', 'data/COVID19VaccPersons_v2.csv', 'data/COVID19VaccDosesAdministered_AKL10_w.csv', 'data/COVID19VaccPersons_AKL10_w_v2.csv', 'data/COVID19VaccPersons_AKL10_vaccine_w.csv', 'data/COVID19VaccDosesAdministered_sex_w.csv', 'data/COVID19VaccPersons_sex_w_v2.csv', 'data/COVID19FullyVaccPersons_indication_w_v2.csv', 'data/COVID19VaccDosesAdministered_indication_w.csv', 'data/COVID19VaccDosesAdministered_location_w.csv', 'data/COVID19Variants_wgs.csv', 'data/COVID19WeeklyReportText.csv', 'data/COVID19VaccPersons_vaccine.csv', 'data/COVID19AdministeredDoses_vaccine.csv', 'data/COVID19VaccDosesDelivered_vaccine.csv', 'data/COVID19VaccSymptoms.csv', 'data/COVID19Certificates.csv', 'data/COVID19Cases_extraGeoRegions_d.csv', 'data/COVID19Cases_extraGeoRegions_14d.csv', 'README.md', 'sources.schema.json']"
     ]
    }
   ],
   "source": [
    "df = pandas.read_csv(BytesIO(result.content), compression='zip', header=0, sep=',', quotechar='\"')"
   ]
  },
  {
   "cell_type": "code",
   "execution_count": null,
   "metadata": {},
   "outputs": [],
   "source": []
  }
 ],
 "metadata": {
  "kernelspec": {
   "display_name": "conda_python3",
   "language": "python",
   "name": "conda_python3"
  },
  "language_info": {
   "codemirror_mode": {
    "name": "ipython",
    "version": 3
   },
   "file_extension": ".py",
   "mimetype": "text/x-python",
   "name": "python",
   "nbconvert_exporter": "python",
   "pygments_lexer": "ipython3",
   "version": "3.6.13"
  }
 },
 "nbformat": 4,
 "nbformat_minor": 4
}
