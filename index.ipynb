{
 "cells": [
  {
   "cell_type": "code",
   "execution_count": 1,
   "metadata": {},
   "outputs": [],
   "source": [
    "from zipfile import ZipFile\n",
    "import pandas\n",
    "import seaborn as sns\n",
    "from io import BytesIO\n",
    "import requests\n",
    "import urllib.request"
   ]
  },
  {
   "cell_type": "code",
   "execution_count": 2,
   "metadata": {},
   "outputs": [],
   "source": [
    "%matplotlib inline "
   ]
  },
  {
   "cell_type": "code",
   "execution_count": 3,
   "metadata": {},
   "outputs": [],
   "source": [
    "result = requests.get(\"https://www.covid19.admin.ch/api/data/20220117-ylc277il/downloads/sources-csv.zip\")"
   ]
  },
  {
   "cell_type": "code",
   "execution_count": 4,
   "metadata": {},
   "outputs": [],
   "source": [
    "zf = ZipFile(BytesIO(result.content))\n",
    "\n",
    "dfs = dict()\n",
    "for item in zf.namelist():\n",
    "    if item.endswith('.csv'):\n",
    "        df = pandas.read_csv(zf.open(item), encoding='latin-1', error_bad_lines=False, low_memory=False)\n",
    "        dfs[item] = df\n"
   ]
  },
  {
   "cell_type": "code",
   "execution_count": 5,
   "metadata": {},
   "outputs": [],
   "source": [
    "df_hosp_capacity = dfs['data/COVID19HospCapacity_geoRegion.csv']\n",
    "df_hosp_ch = df_hosp_capacity[['date', 'geoRegion', 'ICU_NonCovid19Patients', 'ICU_Covid19Patients',\n",
    "       'ICU_Capacity', 'Total_NonCovid19Patients', 'Total_Covid19Patients',\n",
    "       'Total_Capacity']][df_hosp_capacity['geoRegion'] == 'CH']\n",
    "\n",
    "#df_hosp_ch = df_hosp_ch.loc[df_hosp_capacity['type_variant'] == 'fp7d']\n",
    "df_hosp_ch = df_hosp_ch.loc[df_hosp_capacity['type_variant'] == 'nfp']\n",
    "\n",
    "df_hosp_ch['Total_NonCovid19Patients'] = df_hosp_ch['Total_NonCovid19Patients'].ffill()\n",
    "df_hosp_ch['Total_Covid19Patients'] = df_hosp_ch['Total_Covid19Patients'].ffill()\n",
    "\n",
    "df_hosp_ch_total = df_hosp_ch[['date', 'geoRegion', 'Total_NonCovid19Patients', 'Total_Covid19Patients', 'Total_Capacity']]\n",
    "df_hosp_ch_total.insert(0, 'Total', df_hosp_ch_total['Total_NonCovid19Patients'].add(df_hosp_ch_total['Total_Covid19Patients']))\n",
    "\n",
    "df_hosp_ch_total_2020 = df_hosp_ch_total[\n",
    "    (df_hosp_ch_total['date'] <= '2020-31-12')\n",
    "    & (df_hosp_ch_total['date'] > '2019-31-12')]\n",
    "\n",
    "df_hosp_ch_total_2021 = df_hosp_ch_total[\n",
    "    (df_hosp_ch_total['date'] <= '2021-31-12')\n",
    "    & (df_hosp_ch_total['date'] > '2020-31-12')]\n",
    "\n",
    "df_hosp_ch_total_2020.insert(0, 'dayOfYear', pandas.to_datetime(df_hosp_ch_total_2020['date']).dt.strftime('%m-%d'))\n",
    "df_hosp_ch_total_2021.insert(0, 'dayOfYear', pandas.to_datetime(df_hosp_ch_total_2021['date']).dt.strftime('%m-%d'))"
   ]
  },
  {
   "cell_type": "code",
   "execution_count": 6,
   "metadata": {},
   "outputs": [
    {
     "data": {
      "text/html": [
       "<div>\n",
       "<style scoped>\n",
       "    .dataframe tbody tr th:only-of-type {\n",
       "        vertical-align: middle;\n",
       "    }\n",
       "\n",
       "    .dataframe tbody tr th {\n",
       "        vertical-align: top;\n",
       "    }\n",
       "\n",
       "    .dataframe thead th {\n",
       "        text-align: right;\n",
       "    }\n",
       "</style>\n",
       "<table border=\"1\" class=\"dataframe\">\n",
       "  <thead>\n",
       "    <tr style=\"text-align: right;\">\n",
       "      <th></th>\n",
       "      <th>dayOfYear</th>\n",
       "      <th>Total</th>\n",
       "      <th>date</th>\n",
       "      <th>geoRegion</th>\n",
       "      <th>Total_NonCovid19Patients</th>\n",
       "      <th>Total_Covid19Patients</th>\n",
       "      <th>Total_Capacity</th>\n",
       "    </tr>\n",
       "  </thead>\n",
       "  <tbody>\n",
       "    <tr>\n",
       "      <th>34493</th>\n",
       "      <td>01-01</td>\n",
       "      <td>2417.0</td>\n",
       "      <td>2021-01-01</td>\n",
       "      <td>CH</td>\n",
       "      <td>10080.0</td>\n",
       "      <td>2417.0</td>\n",
       "      <td>20477.0</td>\n",
       "    </tr>\n",
       "    <tr>\n",
       "      <th>34494</th>\n",
       "      <td>01-02</td>\n",
       "      <td>2472.0</td>\n",
       "      <td>2021-01-02</td>\n",
       "      <td>CH</td>\n",
       "      <td>10355.0</td>\n",
       "      <td>2472.0</td>\n",
       "      <td>20825.0</td>\n",
       "    </tr>\n",
       "    <tr>\n",
       "      <th>34495</th>\n",
       "      <td>01-03</td>\n",
       "      <td>2568.0</td>\n",
       "      <td>2021-01-03</td>\n",
       "      <td>CH</td>\n",
       "      <td>10738.0</td>\n",
       "      <td>2568.0</td>\n",
       "      <td>20875.0</td>\n",
       "    </tr>\n",
       "    <tr>\n",
       "      <th>34496</th>\n",
       "      <td>01-04</td>\n",
       "      <td>2500.0</td>\n",
       "      <td>2021-01-04</td>\n",
       "      <td>CH</td>\n",
       "      <td>12199.0</td>\n",
       "      <td>2500.0</td>\n",
       "      <td>21890.0</td>\n",
       "    </tr>\n",
       "    <tr>\n",
       "      <th>34497</th>\n",
       "      <td>01-05</td>\n",
       "      <td>2649.0</td>\n",
       "      <td>2021-01-05</td>\n",
       "      <td>CH</td>\n",
       "      <td>13234.0</td>\n",
       "      <td>2649.0</td>\n",
       "      <td>21900.0</td>\n",
       "    </tr>\n",
       "    <tr>\n",
       "      <th>...</th>\n",
       "      <td>...</td>\n",
       "      <td>...</td>\n",
       "      <td>...</td>\n",
       "      <td>...</td>\n",
       "      <td>...</td>\n",
       "      <td>...</td>\n",
       "      <td>...</td>\n",
       "    </tr>\n",
       "    <tr>\n",
       "      <th>34853</th>\n",
       "      <td>12-27</td>\n",
       "      <td>1667.0</td>\n",
       "      <td>2021-12-27</td>\n",
       "      <td>CH</td>\n",
       "      <td>12871.0</td>\n",
       "      <td>1667.0</td>\n",
       "      <td>21586.0</td>\n",
       "    </tr>\n",
       "    <tr>\n",
       "      <th>34854</th>\n",
       "      <td>12-28</td>\n",
       "      <td>1678.0</td>\n",
       "      <td>2021-12-28</td>\n",
       "      <td>CH</td>\n",
       "      <td>13754.0</td>\n",
       "      <td>1678.0</td>\n",
       "      <td>21981.0</td>\n",
       "    </tr>\n",
       "    <tr>\n",
       "      <th>34855</th>\n",
       "      <td>12-29</td>\n",
       "      <td>1731.0</td>\n",
       "      <td>2021-12-29</td>\n",
       "      <td>CH</td>\n",
       "      <td>13869.0</td>\n",
       "      <td>1731.0</td>\n",
       "      <td>22214.0</td>\n",
       "    </tr>\n",
       "    <tr>\n",
       "      <th>34856</th>\n",
       "      <td>12-30</td>\n",
       "      <td>1653.0</td>\n",
       "      <td>2021-12-30</td>\n",
       "      <td>CH</td>\n",
       "      <td>13646.0</td>\n",
       "      <td>1653.0</td>\n",
       "      <td>22141.0</td>\n",
       "    </tr>\n",
       "    <tr>\n",
       "      <th>34857</th>\n",
       "      <td>12-31</td>\n",
       "      <td>1562.0</td>\n",
       "      <td>2021-12-31</td>\n",
       "      <td>CH</td>\n",
       "      <td>12805.0</td>\n",
       "      <td>1562.0</td>\n",
       "      <td>21561.0</td>\n",
       "    </tr>\n",
       "  </tbody>\n",
       "</table>\n",
       "<p>365 rows × 7 columns</p>\n",
       "</div>"
      ],
      "text/plain": [
       "      dayOfYear   Total        date geoRegion  Total_NonCovid19Patients  \\\n",
       "34493     01-01  2417.0  2021-01-01        CH                   10080.0   \n",
       "34494     01-02  2472.0  2021-01-02        CH                   10355.0   \n",
       "34495     01-03  2568.0  2021-01-03        CH                   10738.0   \n",
       "34496     01-04  2500.0  2021-01-04        CH                   12199.0   \n",
       "34497     01-05  2649.0  2021-01-05        CH                   13234.0   \n",
       "...         ...     ...         ...       ...                       ...   \n",
       "34853     12-27  1667.0  2021-12-27        CH                   12871.0   \n",
       "34854     12-28  1678.0  2021-12-28        CH                   13754.0   \n",
       "34855     12-29  1731.0  2021-12-29        CH                   13869.0   \n",
       "34856     12-30  1653.0  2021-12-30        CH                   13646.0   \n",
       "34857     12-31  1562.0  2021-12-31        CH                   12805.0   \n",
       "\n",
       "       Total_Covid19Patients  Total_Capacity  \n",
       "34493                 2417.0         20477.0  \n",
       "34494                 2472.0         20825.0  \n",
       "34495                 2568.0         20875.0  \n",
       "34496                 2500.0         21890.0  \n",
       "34497                 2649.0         21900.0  \n",
       "...                      ...             ...  \n",
       "34853                 1667.0         21586.0  \n",
       "34854                 1678.0         21981.0  \n",
       "34855                 1731.0         22214.0  \n",
       "34856                 1653.0         22141.0  \n",
       "34857                 1562.0         21561.0  \n",
       "\n",
       "[365 rows x 7 columns]"
      ]
     },
     "execution_count": 6,
     "metadata": {},
     "output_type": "execute_result"
    }
   ],
   "source": [
    "df_hosp_ch_total_2021"
   ]
  },
  {
   "cell_type": "code",
   "execution_count": 7,
   "metadata": {},
   "outputs": [],
   "source": [
    "from matplotlib import pyplot\n",
    "pyplot.rcParams['figure.figsize'] = [20, 10]\n",
    "pyplot.rcParams.update({'font.size': 22})"
   ]
  },
  {
   "cell_type": "code",
   "execution_count": 8,
   "metadata": {},
   "outputs": [],
   "source": [
    "df_2020 = df_hosp_ch_total_2020.set_index('dayOfYear', inplace=False).rolling(window=14).mean()['Total']\n",
    "df_2021 = df_hosp_ch_total_2021.set_index('dayOfYear', inplace=False).rolling(window=14).mean()['Total']\n",
    "df_2020.name = 'Hospitalisations 2020'\n",
    "df_2021.name = 'Hospitalisations 2021'\n",
    "output = pandas.DataFrame([df_2020, df_2021]).transpose().sort_index(inplace=False)"
   ]
  },
  {
   "cell_type": "code",
   "execution_count": 9,
   "metadata": {},
   "outputs": [
    {
     "data": {
      "image/png": "[encoded data removed]",
      "text/plain": [
       "<Figure size 1440x720 with 1 Axes>"
      ]
     },
     "metadata": {
      "needs_background": "light"
     },
     "output_type": "display_data"
    }
   ],
   "source": [
    "chart = output.plot(kind='line', xlim=(1, 366), ylim=(0, 25000), xlabel='Date', linewidth=6)\n",
    "chart.grid(axis='x')"
   ]
  },
  {
   "cell_type": "code",
   "execution_count": 25,
   "metadata": {},
   "outputs": [
    {
     "name": "stderr",
     "output_type": "stream",
     "text": [
      "/home/ec2-user/anaconda3/envs/python3/lib/python3.6/site-packages/ipykernel/__main__.py:5: UserWarning: Boolean Series key will be reindexed to match DataFrame index.\n",
      "/home/ec2-user/anaconda3/envs/python3/lib/python3.6/site-packages/ipykernel/__main__.py:11: UserWarning: Boolean Series key will be reindexed to match DataFrame index.\n"
     ]
    }
   ],
   "source": [
    "test_2020 = df_hosp_capacity[['date', 'geoRegion', 'ICU_NonCovid19Patients', 'ICU_Covid19Patients',\n",
    "       'ICU_Capacity', 'Total_NonCovid19Patients', 'Total_Covid19Patients',\n",
    "       'Total_Capacity', 'type_variant']][df_hosp_capacity['geoRegion'] == 'CH'][\n",
    "    (df_hosp_capacity['date'] <= '2020-31-12')\n",
    "    & (df_hosp_capacity['date'] > '2019-31-12')]\n",
    "\n",
    "test_2021 = df_hosp_capacity[['date', 'geoRegion', 'ICU_NonCovid19Patients', 'ICU_Covid19Patients',\n",
    "       'ICU_Capacity', 'Total_NonCovid19Patients', 'Total_Covid19Patients',\n",
    "       'Total_Capacity', 'type_variant']][df_hosp_capacity['geoRegion'] == 'CH'][\n",
    "    (df_hosp_capacity['date'] <= '2021-31-12')\n",
    "    & (df_hosp_capacity['date'] > '2020-31-12')]\n"
   ]
  },
  {
   "cell_type": "code",
   "execution_count": 33,
   "metadata": {},
   "outputs": [],
   "source": [
    "test_2020_nfp = test_2020[test_2020['type_variant'] == 'nfp']\n",
    "test_2021_nfp = test_2021[test_2021['type_variant'] == 'nfp']\n",
    "test_2020_fp7d = test_2020[test_2020['type_variant'] == 'fp7d']\n",
    "test_2021_fp7d = test_2021[test_2021['type_variant'] == 'fp7d']"
   ]
  },
  {
   "cell_type": "code",
   "execution_count": 35,
   "metadata": {},
   "outputs": [
    {
     "data": {
      "text/plain": [
       "2842562.0"
      ]
     },
     "execution_count": 35,
     "metadata": {},
     "output_type": "execute_result"
    }
   ],
   "source": [
    "(test_2020_nfp['Total_NonCovid19Patients'] + test_2020_nfp['Total_Covid19Patients']).sum()"
   ]
  },
  {
   "cell_type": "code",
   "execution_count": 36,
   "metadata": {},
   "outputs": [
    {
     "data": {
      "text/plain": [
       "5781242.0"
      ]
     },
     "execution_count": 36,
     "metadata": {},
     "output_type": "execute_result"
    }
   ],
   "source": [
    "(test_2021_nfp['Total_NonCovid19Patients'] + test_2021_nfp['Total_Covid19Patients']).sum()"
   ]
  },
  {
   "cell_type": "code",
   "execution_count": 37,
   "metadata": {},
   "outputs": [
    {
     "data": {
      "text/plain": [
       "3828505.0"
      ]
     },
     "execution_count": 37,
     "metadata": {},
     "output_type": "execute_result"
    }
   ],
   "source": [
    "(test_2020_fp7d['Total_NonCovid19Patients'] + test_2020_fp7d['Total_Covid19Patients']).sum()"
   ]
  },
  {
   "cell_type": "code",
   "execution_count": 38,
   "metadata": {},
   "outputs": [
    {
     "data": {
      "text/plain": [
       "6279971.0"
      ]
     },
     "execution_count": 38,
     "metadata": {},
     "output_type": "execute_result"
    }
   ],
   "source": [
    "(test_2021_fp7d['Total_NonCovid19Patients'] + test_2021_fp7d['Total_Covid19Patients']).sum()"
   ]
  },
  {
   "cell_type": "code",
   "execution_count": null,
   "metadata": {},
   "outputs": [],
   "source": []
  }
 ],
 "metadata": {
  "kernelspec": {
   "display_name": "conda_python3",
   "language": "python",
   "name": "conda_python3"
  },
  "language_info": {
   "codemirror_mode": {
    "name": "ipython",
    "version": 3
   },
   "file_extension": ".py",
   "mimetype": "text/x-python",
   "name": "python",
   "nbconvert_exporter": "python",
   "pygments_lexer": "ipython3",
   "version": "3.6.13"
  }
 },
 "nbformat": 4,
 "nbformat_minor": 4
}
