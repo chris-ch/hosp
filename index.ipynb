{
 "cells": [
  {
   "cell_type": "code",
   "execution_count": 1,
   "metadata": {},
   "outputs": [],
   "source": [
    "from zipfile import ZipFile\n",
    "import pandas\n",
    "import seaborn as sns\n",
    "from io import BytesIO\n",
    "import requests\n",
    "import urllib.request"
   ]
  },
  {
   "cell_type": "code",
   "execution_count": 2,
   "metadata": {},
   "outputs": [],
   "source": [
    "%matplotlib inline "
   ]
  },
  {
   "cell_type": "code",
   "execution_count": 3,
   "metadata": {},
   "outputs": [],
   "source": [
    "result = requests.get(\"https://www.covid19.admin.ch/api/data/20220117-ylc277il/downloads/sources-csv.zip\")"
   ]
  },
  {
   "cell_type": "code",
   "execution_count": 4,
   "metadata": {},
   "outputs": [
    {
     "data": {
      "text/plain": [
       "['data/COVID19Hosp_geoRegion.csv',\n",
       " 'data/COVID19Hosp_vaccpersons.csv',\n",
       " 'data/COVID19Hosp_geoRegion_w.csv',\n",
       " 'data/COVID19Hosp_geoRegion_AKL10_w.csv',\n",
       " 'data/COVID19Hosp_vaccpersons_AKL10_w.csv',\n",
       " 'data/COVID19Hosp_geoRegion_sex_w.csv',\n",
       " 'data/COVID19Hosp_vaccpersons_sex_w.csv',\n",
       " 'data/COVID19HospCapacity_geoRegion.csv']"
      ]
     },
     "execution_count": 4,
     "metadata": {},
     "output_type": "execute_result"
    }
   ],
   "source": [
    "zf = ZipFile(BytesIO(result.content))\n",
    "\n",
    "dfs = dict()\n",
    "for item in zf.namelist():\n",
    "    if item.endswith('.csv'):\n",
    "        df = pandas.read_csv(zf.open(item), encoding='latin-1', error_bad_lines=False, low_memory=False)\n",
    "        dfs[item] = df\n",
    "\n",
    "[key for key in dfs.keys() if 'HOSP' in key.upper()]"
   ]
  },
  {
   "cell_type": "code",
   "execution_count": 5,
   "metadata": {},
   "outputs": [
    {
     "data": {
      "text/plain": [
       "Index(['date', 'geoRegion', 'ICU_AllPatients', 'ICU_Covid19Patients',\n",
       "       'ICU_Capacity', 'Total_AllPatients', 'Total_Covid19Patients',\n",
       "       'Total_Capacity', 'ICU_NonCovid19Patients', 'ICU_FreeCapacity',\n",
       "       'Total_NonCovid19Patients', 'Total_FreeCapacity', 'timeframe_14d',\n",
       "       'timeframe_28d', 'timeframe_phase2', 'timeframe_phase2b',\n",
       "       'timeframe_phase3', 'timeframe_phase4', 'timeframe_phase5',\n",
       "       'timeframe_all', 'Total_Capacity_mean15d', 'Total_AllPatients_mean15d',\n",
       "       'Total_Covid19Patients_mean15d', 'Total_NonCovid19Patients_mean15d',\n",
       "       'Total_FreeCapacity_mean15d', 'ICU_Capacity_mean15d',\n",
       "       'ICU_AllPatients_mean15d', 'ICU_Covid19Patients_mean15d',\n",
       "       'ICU_NonCovid19Patients_mean15d', 'ICU_FreeCapacity_mean15d',\n",
       "       'type_variant', 'ICUPercent_AllPatients',\n",
       "       'ICUPercent_NonCovid19Patients', 'ICUPercent_Covid19Patients',\n",
       "       'ICUPercent_FreeCapacity', 'ICUPercent_Capacity',\n",
       "       'TotalPercent_AllPatients', 'TotalPercent_NonCovid19Patients',\n",
       "       'TotalPercent_Covid19Patients', 'TotalPercent_FreeCapacity',\n",
       "       'TotalPercent_Capacity', 'ICU_exists', 'Total_exists', 'type',\n",
       "       'version'],\n",
       "      dtype='object')"
      ]
     },
     "execution_count": 5,
     "metadata": {},
     "output_type": "execute_result"
    }
   ],
   "source": [
    "dfs['data/COVID19HospCapacity_geoRegion.csv'].columns"
   ]
  },
  {
   "cell_type": "code",
   "execution_count": 6,
   "metadata": {},
   "outputs": [
    {
     "name": "stderr",
     "output_type": "stream",
     "text": [
      "/home/ec2-user/anaconda3/envs/python3/lib/python3.6/site-packages/ipykernel/__main__.py:3: UserWarning: Boolean Series key will be reindexed to match DataFrame index.\n",
      "  app.launch_new_instance()\n"
     ]
    }
   ],
   "source": [
    "df_hosp_ch = dfs['data/COVID19HospCapacity_geoRegion.csv'][['date', 'geoRegion', 'ICU_NonCovid19Patients', 'ICU_Covid19Patients',\n",
    "       'ICU_Capacity', 'Total_NonCovid19Patients', 'Total_Covid19Patients',\n",
    "       'Total_Capacity']][dfs['data/COVID19HospCapacity_geoRegion.csv']['geoRegion'] == 'CH'][dfs['data/COVID19HospCapacity_geoRegion.csv']['type_variant'] == 'fp7d']"
   ]
  },
  {
   "cell_type": "code",
   "execution_count": 7,
   "metadata": {},
   "outputs": [
    {
     "data": {
      "text/plain": [
       "Index(['date', 'geoRegion', 'ICU_AllPatients', 'ICU_Covid19Patients',\n",
       "       'ICU_Capacity', 'Total_AllPatients', 'Total_Covid19Patients',\n",
       "       'Total_Capacity', 'ICU_NonCovid19Patients', 'ICU_FreeCapacity',\n",
       "       'Total_NonCovid19Patients', 'Total_FreeCapacity', 'timeframe_14d',\n",
       "       'timeframe_28d', 'timeframe_phase2', 'timeframe_phase2b',\n",
       "       'timeframe_phase3', 'timeframe_phase4', 'timeframe_phase5',\n",
       "       'timeframe_all', 'Total_Capacity_mean15d', 'Total_AllPatients_mean15d',\n",
       "       'Total_Covid19Patients_mean15d', 'Total_NonCovid19Patients_mean15d',\n",
       "       'Total_FreeCapacity_mean15d', 'ICU_Capacity_mean15d',\n",
       "       'ICU_AllPatients_mean15d', 'ICU_Covid19Patients_mean15d',\n",
       "       'ICU_NonCovid19Patients_mean15d', 'ICU_FreeCapacity_mean15d',\n",
       "       'type_variant', 'ICUPercent_AllPatients',\n",
       "       'ICUPercent_NonCovid19Patients', 'ICUPercent_Covid19Patients',\n",
       "       'ICUPercent_FreeCapacity', 'ICUPercent_Capacity',\n",
       "       'TotalPercent_AllPatients', 'TotalPercent_NonCovid19Patients',\n",
       "       'TotalPercent_Covid19Patients', 'TotalPercent_FreeCapacity',\n",
       "       'TotalPercent_Capacity', 'ICU_exists', 'Total_exists', 'type',\n",
       "       'version'],\n",
       "      dtype='object')"
      ]
     },
     "execution_count": 7,
     "metadata": {},
     "output_type": "execute_result"
    }
   ],
   "source": [
    "dfs['data/COVID19HospCapacity_geoRegion.csv'].columns"
   ]
  },
  {
   "cell_type": "code",
   "execution_count": 8,
   "metadata": {},
   "outputs": [
    {
     "name": "stderr",
     "output_type": "stream",
     "text": [
      "/home/ec2-user/anaconda3/envs/python3/lib/python3.6/site-packages/ipykernel/__main__.py:2: SettingWithCopyWarning: \n",
      "A value is trying to be set on a copy of a slice from a DataFrame.\n",
      "Try using .loc[row_indexer,col_indexer] = value instead\n",
      "\n",
      "See the caveats in the documentation: https://pandas.pydata.org/pandas-docs/stable/user_guide/indexing.html#returning-a-view-versus-a-copy\n",
      "  from ipykernel import kernelapp as app\n"
     ]
    }
   ],
   "source": [
    "df_hosp_ch_total = df_hosp_ch[['date', 'geoRegion', 'Total_NonCovid19Patients', 'Total_Covid19Patients', 'Total_Capacity']]\n",
    "df_hosp_ch_total['Total'] = df_hosp_ch_total.loc[:,'Total_NonCovid19Patients'] + df_hosp_ch_total.loc[:,'Total_Covid19Patients']\n"
   ]
  },
  {
   "cell_type": "code",
   "execution_count": 9,
   "metadata": {},
   "outputs": [],
   "source": [
    "df_hosp_ch_total_2020 = df_hosp_ch_total[(df_hosp_ch_total['date'] <= '2020-31-12') & (df_hosp_ch_total['date'] > '2019-31-12')]\n",
    "df_hosp_ch_total_2021 = df_hosp_ch_total[(df_hosp_ch_total['date'] <= '2021-31-12') & (df_hosp_ch_total['date'] > '2020-31-12')]"
   ]
  },
  {
   "cell_type": "code",
   "execution_count": 10,
   "metadata": {},
   "outputs": [
    {
     "name": "stderr",
     "output_type": "stream",
     "text": [
      "/home/ec2-user/anaconda3/envs/python3/lib/python3.6/site-packages/ipykernel/__main__.py:1: SettingWithCopyWarning: \n",
      "A value is trying to be set on a copy of a slice from a DataFrame.\n",
      "Try using .loc[row_indexer,col_indexer] = value instead\n",
      "\n",
      "See the caveats in the documentation: https://pandas.pydata.org/pandas-docs/stable/user_guide/indexing.html#returning-a-view-versus-a-copy\n",
      "  if __name__ == '__main__':\n",
      "/home/ec2-user/anaconda3/envs/python3/lib/python3.6/site-packages/ipykernel/__main__.py:2: SettingWithCopyWarning: \n",
      "A value is trying to be set on a copy of a slice from a DataFrame.\n",
      "Try using .loc[row_indexer,col_indexer] = value instead\n",
      "\n",
      "See the caveats in the documentation: https://pandas.pydata.org/pandas-docs/stable/user_guide/indexing.html#returning-a-view-versus-a-copy\n",
      "  from ipykernel import kernelapp as app\n"
     ]
    }
   ],
   "source": [
    "df_hosp_ch_total_2020['dayOfYear'] = pandas.to_datetime(df_hosp_ch_total_2020['date']).dt.dayofyear\n",
    "df_hosp_ch_total_2021['dayOfYear'] = pandas.to_datetime(df_hosp_ch_total_2021['date']).dt.dayofyear"
   ]
  },
  {
   "cell_type": "code",
   "execution_count": 11,
   "metadata": {},
   "outputs": [
    {
     "data": {
      "text/html": [
       "<div>\n",
       "<style scoped>\n",
       "    .dataframe tbody tr th:only-of-type {\n",
       "        vertical-align: middle;\n",
       "    }\n",
       "\n",
       "    .dataframe tbody tr th {\n",
       "        vertical-align: top;\n",
       "    }\n",
       "\n",
       "    .dataframe thead th {\n",
       "        text-align: right;\n",
       "    }\n",
       "</style>\n",
       "<table border=\"1\" class=\"dataframe\">\n",
       "  <thead>\n",
       "    <tr style=\"text-align: right;\">\n",
       "      <th></th>\n",
       "      <th>date</th>\n",
       "      <th>geoRegion</th>\n",
       "      <th>Total_NonCovid19Patients</th>\n",
       "      <th>Total_Covid19Patients</th>\n",
       "      <th>Total_Capacity</th>\n",
       "      <th>Total</th>\n",
       "      <th>dayOfYear</th>\n",
       "    </tr>\n",
       "  </thead>\n",
       "  <tbody>\n",
       "    <tr>\n",
       "      <th>35151</th>\n",
       "      <td>2021-01-01</td>\n",
       "      <td>CH</td>\n",
       "      <td>10892.0</td>\n",
       "      <td>2528.0</td>\n",
       "      <td>22225.0</td>\n",
       "      <td>13420.0</td>\n",
       "      <td>1</td>\n",
       "    </tr>\n",
       "    <tr>\n",
       "      <th>35152</th>\n",
       "      <td>2021-01-02</td>\n",
       "      <td>CH</td>\n",
       "      <td>10970.0</td>\n",
       "      <td>2568.0</td>\n",
       "      <td>22128.0</td>\n",
       "      <td>13538.0</td>\n",
       "      <td>2</td>\n",
       "    </tr>\n",
       "    <tr>\n",
       "      <th>35153</th>\n",
       "      <td>2021-01-03</td>\n",
       "      <td>CH</td>\n",
       "      <td>11444.0</td>\n",
       "      <td>2661.0</td>\n",
       "      <td>22295.0</td>\n",
       "      <td>14105.0</td>\n",
       "      <td>3</td>\n",
       "    </tr>\n",
       "    <tr>\n",
       "      <th>35154</th>\n",
       "      <td>2021-01-04</td>\n",
       "      <td>CH</td>\n",
       "      <td>12428.0</td>\n",
       "      <td>2697.0</td>\n",
       "      <td>22573.0</td>\n",
       "      <td>15125.0</td>\n",
       "      <td>4</td>\n",
       "    </tr>\n",
       "    <tr>\n",
       "      <th>35155</th>\n",
       "      <td>2021-01-05</td>\n",
       "      <td>CH</td>\n",
       "      <td>13692.0</td>\n",
       "      <td>2689.0</td>\n",
       "      <td>22704.0</td>\n",
       "      <td>16381.0</td>\n",
       "      <td>5</td>\n",
       "    </tr>\n",
       "    <tr>\n",
       "      <th>...</th>\n",
       "      <td>...</td>\n",
       "      <td>...</td>\n",
       "      <td>...</td>\n",
       "      <td>...</td>\n",
       "      <td>...</td>\n",
       "      <td>...</td>\n",
       "      <td>...</td>\n",
       "    </tr>\n",
       "    <tr>\n",
       "      <th>35511</th>\n",
       "      <td>2021-12-27</td>\n",
       "      <td>CH</td>\n",
       "      <td>13269.0</td>\n",
       "      <td>1721.0</td>\n",
       "      <td>22370.0</td>\n",
       "      <td>14990.0</td>\n",
       "      <td>361</td>\n",
       "    </tr>\n",
       "    <tr>\n",
       "      <th>35512</th>\n",
       "      <td>2021-12-28</td>\n",
       "      <td>CH</td>\n",
       "      <td>13875.0</td>\n",
       "      <td>1698.0</td>\n",
       "      <td>22393.0</td>\n",
       "      <td>15573.0</td>\n",
       "      <td>362</td>\n",
       "    </tr>\n",
       "    <tr>\n",
       "      <th>35513</th>\n",
       "      <td>2021-12-29</td>\n",
       "      <td>CH</td>\n",
       "      <td>13883.0</td>\n",
       "      <td>1731.0</td>\n",
       "      <td>22354.0</td>\n",
       "      <td>15614.0</td>\n",
       "      <td>363</td>\n",
       "    </tr>\n",
       "    <tr>\n",
       "      <th>35514</th>\n",
       "      <td>2021-12-30</td>\n",
       "      <td>CH</td>\n",
       "      <td>13653.0</td>\n",
       "      <td>1653.0</td>\n",
       "      <td>22166.0</td>\n",
       "      <td>15306.0</td>\n",
       "      <td>364</td>\n",
       "    </tr>\n",
       "    <tr>\n",
       "      <th>35515</th>\n",
       "      <td>2021-12-31</td>\n",
       "      <td>CH</td>\n",
       "      <td>13187.0</td>\n",
       "      <td>1593.0</td>\n",
       "      <td>22175.0</td>\n",
       "      <td>14780.0</td>\n",
       "      <td>365</td>\n",
       "    </tr>\n",
       "  </tbody>\n",
       "</table>\n",
       "<p>365 rows × 7 columns</p>\n",
       "</div>"
      ],
      "text/plain": [
       "             date geoRegion  Total_NonCovid19Patients  Total_Covid19Patients  \\\n",
       "35151  2021-01-01        CH                   10892.0                 2528.0   \n",
       "35152  2021-01-02        CH                   10970.0                 2568.0   \n",
       "35153  2021-01-03        CH                   11444.0                 2661.0   \n",
       "35154  2021-01-04        CH                   12428.0                 2697.0   \n",
       "35155  2021-01-05        CH                   13692.0                 2689.0   \n",
       "...           ...       ...                       ...                    ...   \n",
       "35511  2021-12-27        CH                   13269.0                 1721.0   \n",
       "35512  2021-12-28        CH                   13875.0                 1698.0   \n",
       "35513  2021-12-29        CH                   13883.0                 1731.0   \n",
       "35514  2021-12-30        CH                   13653.0                 1653.0   \n",
       "35515  2021-12-31        CH                   13187.0                 1593.0   \n",
       "\n",
       "       Total_Capacity    Total  dayOfYear  \n",
       "35151         22225.0  13420.0          1  \n",
       "35152         22128.0  13538.0          2  \n",
       "35153         22295.0  14105.0          3  \n",
       "35154         22573.0  15125.0          4  \n",
       "35155         22704.0  16381.0          5  \n",
       "...               ...      ...        ...  \n",
       "35511         22370.0  14990.0        361  \n",
       "35512         22393.0  15573.0        362  \n",
       "35513         22354.0  15614.0        363  \n",
       "35514         22166.0  15306.0        364  \n",
       "35515         22175.0  14780.0        365  \n",
       "\n",
       "[365 rows x 7 columns]"
      ]
     },
     "execution_count": 11,
     "metadata": {},
     "output_type": "execute_result"
    }
   ],
   "source": [
    "df_hosp_ch_total_2021"
   ]
  },
  {
   "cell_type": "code",
   "execution_count": 31,
   "metadata": {},
   "outputs": [
    {
     "data": {
      "text/plain": [
       "<AxesSubplot:xlabel='dayOfYear'>"
      ]
     },
     "execution_count": 31,
     "metadata": {},
     "output_type": "execute_result"
    },
    {
     "data": {
      "image/png": "[encoded data removed]",
      "text/plain": [
       "<Figure size 1080x360 with 1 Axes>"
      ]
     },
     "metadata": {
      "needs_background": "light"
     },
     "output_type": "display_data"
    }
   ],
   "source": [
    "import matplotlib.pyplot as plt\n",
    "plt.rcParams['figure.figsize'] = [15, 5]\n",
    "df_hosp_ch_total_2020.set_index('dayOfYear', inplace=False).rolling(window=14).mean()['Total'].plot()"
   ]
  },
  {
   "cell_type": "code",
   "execution_count": 32,
   "metadata": {},
   "outputs": [],
   "source": [
    "df_2020 = df_hosp_ch_total_2020.set_index('dayOfYear', inplace=False).rolling(window=14).mean()['Total']\n",
    "df_2021 = df_hosp_ch_total_2021.set_index('dayOfYear', inplace=False).rolling(window=14).mean()['Total']\n",
    "df_2020.name = 'Hospitalisations 2020'\n",
    "df_2021.name = 'Hospitalisations 2021'\n",
    "output = pandas.DataFrame([df_2020, df_2021]).transpose()"
   ]
  },
  {
   "cell_type": "code",
   "execution_count": 33,
   "metadata": {},
   "outputs": [
    {
     "data": {
      "text/html": [
       "<div>\n",
       "<style scoped>\n",
       "    .dataframe tbody tr th:only-of-type {\n",
       "        vertical-align: middle;\n",
       "    }\n",
       "\n",
       "    .dataframe tbody tr th {\n",
       "        vertical-align: top;\n",
       "    }\n",
       "\n",
       "    .dataframe thead th {\n",
       "        text-align: right;\n",
       "    }\n",
       "</style>\n",
       "<table border=\"1\" class=\"dataframe\">\n",
       "  <thead>\n",
       "    <tr style=\"text-align: right;\">\n",
       "      <th></th>\n",
       "      <th>Hospitalisations 2020</th>\n",
       "      <th>Hospitalisations 2021</th>\n",
       "    </tr>\n",
       "    <tr>\n",
       "      <th>dayOfYear</th>\n",
       "      <th></th>\n",
       "      <th></th>\n",
       "    </tr>\n",
       "  </thead>\n",
       "  <tbody>\n",
       "    <tr>\n",
       "      <th>1</th>\n",
       "      <td>NaN</td>\n",
       "      <td>NaN</td>\n",
       "    </tr>\n",
       "    <tr>\n",
       "      <th>2</th>\n",
       "      <td>NaN</td>\n",
       "      <td>NaN</td>\n",
       "    </tr>\n",
       "    <tr>\n",
       "      <th>3</th>\n",
       "      <td>NaN</td>\n",
       "      <td>NaN</td>\n",
       "    </tr>\n",
       "    <tr>\n",
       "      <th>4</th>\n",
       "      <td>NaN</td>\n",
       "      <td>NaN</td>\n",
       "    </tr>\n",
       "    <tr>\n",
       "      <th>5</th>\n",
       "      <td>NaN</td>\n",
       "      <td>NaN</td>\n",
       "    </tr>\n",
       "    <tr>\n",
       "      <th>...</th>\n",
       "      <td>...</td>\n",
       "      <td>...</td>\n",
       "    </tr>\n",
       "    <tr>\n",
       "      <th>362</th>\n",
       "      <td>15614.857143</td>\n",
       "      <td>16663.785714</td>\n",
       "    </tr>\n",
       "    <tr>\n",
       "      <th>363</th>\n",
       "      <td>15396.785714</td>\n",
       "      <td>16420.214286</td>\n",
       "    </tr>\n",
       "    <tr>\n",
       "      <th>364</th>\n",
       "      <td>15175.714286</td>\n",
       "      <td>16148.714286</td>\n",
       "    </tr>\n",
       "    <tr>\n",
       "      <th>365</th>\n",
       "      <td>14934.714286</td>\n",
       "      <td>15905.285714</td>\n",
       "    </tr>\n",
       "    <tr>\n",
       "      <th>366</th>\n",
       "      <td>14659.214286</td>\n",
       "      <td>NaN</td>\n",
       "    </tr>\n",
       "  </tbody>\n",
       "</table>\n",
       "<p>366 rows × 2 columns</p>\n",
       "</div>"
      ],
      "text/plain": [
       "           Hospitalisations 2020  Hospitalisations 2021\n",
       "dayOfYear                                              \n",
       "1                            NaN                    NaN\n",
       "2                            NaN                    NaN\n",
       "3                            NaN                    NaN\n",
       "4                            NaN                    NaN\n",
       "5                            NaN                    NaN\n",
       "...                          ...                    ...\n",
       "362                 15614.857143           16663.785714\n",
       "363                 15396.785714           16420.214286\n",
       "364                 15175.714286           16148.714286\n",
       "365                 14934.714286           15905.285714\n",
       "366                 14659.214286                    NaN\n",
       "\n",
       "[366 rows x 2 columns]"
      ]
     },
     "execution_count": 33,
     "metadata": {},
     "output_type": "execute_result"
    }
   ],
   "source": [
    "output"
   ]
  },
  {
   "cell_type": "code",
   "execution_count": 34,
   "metadata": {},
   "outputs": [
    {
     "data": {
      "text/plain": [
       "<AxesSubplot:xlabel='dayOfYear'>"
      ]
     },
     "execution_count": 34,
     "metadata": {},
     "output_type": "execute_result"
    },
    {
     "data": {
      "image/png": "[encoded data removed]",
      "text/plain": [
       "<Figure size 1080x360 with 1 Axes>"
      ]
     },
     "metadata": {
      "needs_background": "light"
     },
     "output_type": "display_data"
    }
   ],
   "source": [
    "output.plot(ylim=(0, 25000))"
   ]
  },
  {
   "cell_type": "code",
   "execution_count": null,
   "metadata": {},
   "outputs": [],
   "source": []
  }
 ],
 "metadata": {
  "kernelspec": {
   "display_name": "conda_python3",
   "language": "python",
   "name": "conda_python3"
  },
  "language_info": {
   "codemirror_mode": {
    "name": "ipython",
    "version": 3
   },
   "file_extension": ".py",
   "mimetype": "text/x-python",
   "name": "python",
   "nbconvert_exporter": "python",
   "pygments_lexer": "ipython3",
   "version": "3.6.13"
  }
 },
 "nbformat": 4,
 "nbformat_minor": 4
}
